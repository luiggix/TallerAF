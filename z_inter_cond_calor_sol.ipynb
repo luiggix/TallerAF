{
 "cells": [
  {
   "cell_type": "code",
   "execution_count": 1,
   "id": "d5b6a890-ca10-44b8-9aa8-a1fceafd090d",
   "metadata": {
    "tags": []
   },
   "outputs": [],
   "source": [
    "from cond_calor_solvers import solucion\n",
    "from ipywidgets import interact, interactive, fixed, interact_manual\n",
    "import ipywidgets as widgets"
   ]
  },
  {
   "cell_type": "code",
   "execution_count": 17,
   "id": "f1ff83ab-964d-4dce-86a1-59cf6e1a40ac",
   "metadata": {
    "tags": []
   },
   "outputs": [
    {
     "data": {
      "application/vnd.jupyter.widget-view+json": {
       "model_id": "5b5f42a42e8948f29a87b065c14c0b77",
       "version_major": 2,
       "version_minor": 0
      },
      "text/plain": [
       "HBox(children=(VBox(children=(Dropdown(description='Método', layout=Layout(width='200px'), options=('LU (linal…"
      ]
     },
     "metadata": {},
     "output_type": "display_data"
    },
    {
     "data": {
      "application/vnd.jupyter.widget-view+json": {
       "model_id": "53140bb553ad431cab4d04183722a574",
       "version_major": 2,
       "version_minor": 0
      },
      "text/plain": [
       "Output()"
      ]
     },
     "metadata": {},
     "output_type": "display_data"
    }
   ],
   "source": [
    "metodos = ['LU (linalg)', 'Jacobi', 'Gauss-Seidel', 'SOR', 'Steepest', 'CGM']\n",
    "color = ['OrRd', 'inferno', 'magma', 'seismic', 'viridis', 'cool', 'hsv', 'hot']\n",
    "\n",
    "w_metodo = widgets.Dropdown(\n",
    "    options=metodos, \n",
    "    description=\"Método\",\n",
    "    layout=widgets.Layout(width='200px')\n",
    ")\n",
    "\n",
    "w_color = widgets.Dropdown(\n",
    "    options=color, \n",
    "    description=\"Colormap\",\n",
    "    layout=widgets.Layout(height='auto', width='200px')\n",
    ")\n",
    "\n",
    "w_N = widgets.IntSlider(\n",
    "    min=5, max=18, step=1, value=3,\n",
    "    description='N',\n",
    "    layout=widgets.Layout(width='250px')\n",
    ")\n",
    "\n",
    "button = widgets.Button(\n",
    "    description=\"\", icon='play',\n",
    "    layout=widgets.Layout(width='50px')    \n",
    ")\n",
    "\n",
    "w_B = widgets.FloatSlider(\n",
    "    min=0, max=100, step=20, value=100,\n",
    "    description='Bot',\n",
    "    layout=widgets.Layout(width='250px')\n",
    ")\n",
    "\n",
    "w_T = widgets.FloatSlider(\n",
    "    min=0, max=100, step=20, value=0,\n",
    "    description='Top',\n",
    "    layout=widgets.Layout(width='250px')\n",
    ")\n",
    "\n",
    "w_L = widgets.FloatSlider(\n",
    "    min=0, max=50, step=10, value=30,\n",
    "    description='Left',\n",
    "    layout=widgets.Layout(width='250px')\n",
    ")\n",
    "\n",
    "w_R = widgets.FloatSlider(\n",
    "    min=0, max=50, step=10, value=10,\n",
    "    description='Right',\n",
    "    layout=widgets.Layout(width='250px')\n",
    ")\n",
    "\n",
    "ui = widgets.HBox([widgets.VBox([w_metodo, w_color, w_N, button]), \n",
    "                   widgets.VBox([w_B, w_T, w_L, w_R]),])\n",
    "\n",
    "ui.layout = widgets.Layout(border='solid 1px black')\n",
    "ui.layout.width = '500px'\n",
    "\n",
    "output = widgets.Output()\n",
    "\n",
    "display(ui, output)\n",
    "\n",
    "def on_button_clicked(b):\n",
    "    output.clear_output(wait=True)\n",
    "    with output:\n",
    "        solucion(B = w_B.value, T = w_T.value, \n",
    "                 L = w_L.value, R = w_R.value, \n",
    "                 metodo = w_metodo.value, N = w_N.value,\n",
    "                 cmap = w_color.value)\n",
    "\n",
    "button.on_click(on_button_clicked)"
   ]
  },
  {
   "cell_type": "code",
   "execution_count": null,
   "id": "326be6d6-dc95-416e-b83b-a3d44398cbca",
   "metadata": {},
   "outputs": [],
   "source": []
  },
  {
   "cell_type": "code",
   "execution_count": null,
   "id": "ca354f8e-ae67-4e83-85ad-42e08109642f",
   "metadata": {},
   "outputs": [],
   "source": []
  },
  {
   "cell_type": "code",
   "execution_count": null,
   "id": "d5f4ff1d-8bd2-4f7f-9e88-58d46769038e",
   "metadata": {},
   "outputs": [],
   "source": []
  },
  {
   "cell_type": "code",
   "execution_count": null,
   "id": "7df76306-fb57-46c1-bf11-542842bb5f48",
   "metadata": {},
   "outputs": [],
   "source": []
  },
  {
   "cell_type": "code",
   "execution_count": null,
   "id": "e7b88568-6e19-4c97-ada5-7b5dfec03633",
   "metadata": {},
   "outputs": [],
   "source": []
  },
  {
   "cell_type": "code",
   "execution_count": null,
   "id": "b7bef755-37eb-445a-87c3-b0f1d5c12a7e",
   "metadata": {},
   "outputs": [],
   "source": []
  }
 ],
 "metadata": {
  "kernelspec": {
   "display_name": "Python 3 (ipykernel)",
   "language": "python",
   "name": "python3"
  },
  "language_info": {
   "codemirror_mode": {
    "name": "ipython",
    "version": 3
   },
   "file_extension": ".py",
   "mimetype": "text/x-python",
   "name": "python",
   "nbconvert_exporter": "python",
   "pygments_lexer": "ipython3",
   "version": "3.11.6"
  }
 },
 "nbformat": 4,
 "nbformat_minor": 5
}
