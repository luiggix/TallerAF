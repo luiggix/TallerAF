{
 "cells": [
  {
   "cell_type": "markdown",
   "id": "019f91df-8574-4dfa-bb8d-85ba1884527a",
   "metadata": {},
   "source": [
    "# Transferencia de calor.\n",
    "\n",
    "**Objetivo General**\n",
    "- Resolver numérica y computacionalmente la ecuación de conducción de calor estacionaria en dos dimensiones usando un método implícito.\n",
    "\n",
    "**Objetivos particulares**\n",
    "- Definir los parámetros físicos y numéricos.\n",
    "- Definir la malla del dominio.\n",
    "- Definir la temperatura inicial junto con sus condiciones de frontera y graficarla sobre la malla.\n",
    "- Definir el sistema lineal y resolverlo.\n",
    "- Graficar la solución.\n",
    "\n",
    " <p xmlns:cc=\"http://creativecommons.org/ns#\" xmlns:dct=\"http://purl.org/dc/terms/\">01_transferencia_calor_1.ipynb by <a rel=\"cc:attributionURL dct:creator\" property=\"cc:attributionName\" href=\"https://www.macti.unam.mx\">Luis M. de la Cruz</a> is licensed under <a href=\"http://creativecommons.org/licenses/by-sa/4.0/?ref=chooser-v1\" target=\"_blank\" rel=\"license noopener noreferrer\" style=\"display:inline-block;\">Attribution-ShareAlike 4.0 International<img style=\"height:22px!important;margin-left:3px;vertical-align:text-bottom;\" src=\"https://mirrors.creativecommons.org/presskit/icons/cc.svg?ref=chooser-v1\"><img style=\"height:22px!important;margin-left:3px;vertical-align:text-bottom;\" src=\"https://mirrors.creativecommons.org/presskit/icons/by.svg?ref=chooser-v1\"><img style=\"height:22px!important;margin-left:3px;vertical-align:text-bottom;\" src=\"https://mirrors.creativecommons.org/presskit/icons/sa.svg?ref=chooser-v1\"></a></p> \n",
    "\n",
    " **Trabajo realizado con el apoyo del Programa UNAM-DGAPA-PAPIME PE101010, PE101922 y PE106025**"
   ]
  },
  {
   "cell_type": "code",
   "execution_count": null,
   "id": "f88306e8-0e7e-4b69-bee0-1757b53d67e1",
   "metadata": {},
   "outputs": [],
   "source": [
    "%%html\n",
    "<iframe width=\"560\" height=\"315\" src=\"https://www.youtube.com/embed/sKbanJs-K1I?si=ugXLclpdov-rbogC\" title=\"YouTube video player\" frameborder=\"0\" allow=\"accelerometer; autoplay; clipboard-write; encrypted-media; gyroscope; picture-in-picture; web-share\" referrerpolicy=\"strict-origin-when-cross-origin\" allowfullscreen></iframe>"
   ]
  },
  {
   "cell_type": "markdown",
   "id": "8c23d82b-edc9-4ebc-b2d0-8e5a82efbbe3",
   "metadata": {},
   "source": [
    "# Introducción.\n",
    "**Jean-Baptiste Joseph Fourier**\n",
    "fue un matemático y físico francés que ejerció una fuerte influencia en la ciencia a través de su trabajo *Théorie analytique de la chaleur*. En este trabajo mostró que es posible analizar la conducción de calor en cuerpos sólidos en términos de series matemáticas infinitas, las cuales ahora llevan su nombre: *Series de Fourier*. Fourier comenzó su trabajo en 1807, en Grenoble, y lo completó en París en 1822. Su trabajo le permitió expresar la conducción de calor en objetos bidimensionales (hojas muy delgadas de algún material) en términos de una ecuación diferencial:\n",
    "\n",
    "\n",
    "$$\n",
    "\\dfrac{\\partial T}{ \\partial t} = \\kappa \\left(\\dfrac{\\partial^2 T}{ \\partial x^2} + \\dfrac{\\partial^2 T}{ \\partial y^2}\\right) + S\n",
    "$$\n",
    "\n",
    "donde $u$ representa la temperatura en un instante de tiempo $t$ y en un punto $(x,y)$ del plano Cartesiano, $\\kappa$ es la conductividad del material y $S$ una fuente de calor."
   ]
  },
  {
   "cell_type": "markdown",
   "id": "92c18d08-d40a-48ba-b5cf-1cb2ecb0df94",
   "metadata": {},
   "source": [
    "# Caso estacionario en 2D.\n",
    "\n",
    "<div>\n",
    " <img src=\"./condCalor2D.png\"  hspace=\"5\" vspace=\"5\" style=\"float: right; width:150px\"/>\n",
    "    Cuando el problema es estacionario, es decir no hay cambios en el tiempo, y el dominio de estudio es una placa en dos dimensiones, como la que se muestra en la figura, podemos escribir el problema como sigue:\n",
    "\n",
    "$$\n",
    "- \\kappa \\left(\\dfrac{\\partial^2 T}{ \\partial x^2} + \\dfrac{\\partial^2 T}{ \\partial y^2}\\right) = S \\tag{1}\n",
    "$$\n",
    "    Podemos aplicar condiciones de frontera de tipo Dirichlet o Neumann en las paredes de la placa.\n",
    "    En la figura se distingue $T_L, T_R, T_T$ y $T_B$ que corresponden a las temperaturas dadas en las paredes izquierda (LEFT), derecha (RIGHT), arriba (TOP) y abajo (BOTTOM), respectivamente.\n",
    "</div>\n",
    "\n",
    "A la ecuación $(1)$ le podemos aplicar el método de diferencias finitas:\n",
    "\n",
    "<table>\n",
    "  <tr>\n",
    "    <td><img src=\"./malla2D_DF.png\"  width='300px'/></td>\n",
    "      <td>$\\Longrightarrow$</td>\n",
    "    <td>\n",
    "$$\n",
    "\\begin{eqnarray}\n",
    "\t\\frac{\\partial^2 T}{\\partial x^2}\\Big|_{i,j} \\approx \\frac{T_{i+1,j} - 2 T_{i,j} + T_{i-1,j}}{h_x^2}; \\\\\n",
    "\t\\frac{\\partial^2 T}{\\partial y^2}\\Big|_{i,j} \\approx \\frac{T_{i,j+1} - 2 T_{i,j} + T_{i,j-1}}{h_y^2}.\n",
    "\\end{eqnarray}\n",
    "$$      \n",
    "    </td>\n",
    "  </tr>\n",
    "</table>\n",
    "\n",
    "de tal manera que obtendríamos un sistema de ecuaciones lineales como el siguiente:\n",
    "\n",
    "<center>\n",
    "<img src=\"./calor02.png\"  width='500px'/></td>\n",
    "</center>\n",
    "\n",
    "En general un sistema de ecuaciones lineales puede contener $n$ ecuaciones con $n$ incógnitas y se ve como sigue:\n",
    "\n",
    "$$\n",
    "A \\cdot \\mathbf{x} = \\mathbf{b} \\Longrightarrow\n",
    "\\left[\n",
    "\\begin{array}{ccccc}\n",
    "a_{00} & a_{01} & a_{02} & \\dots & a_{0n} \\\\\n",
    "a_{10} & a_{11} & a_{12} & \\dots & a_{1n} \\\\\n",
    "\\vdots & \\vdots & \\vdots & \\ddots & \\vdots \\\\\n",
    "a_{n1} & a_{n1} & a_{n2} & \\dots & a_{nn}\n",
    "\\end{array} \\right] \n",
    "\\left[\n",
    "\\begin{array}{cccc}\n",
    "x_{0} \\\\ x_{1} \\\\ \\vdots \\\\ x_{n}\n",
    "\\end{array} \\right] \n",
    "=\n",
    "\\left[\n",
    "\\begin{array}{c}\n",
    "b_0 \\\\ b_1 \\\\ \\vdots \\\\ b_{n}\n",
    "\\end{array}\n",
    "\\right]\n",
    "$$ \n",
    "\n",
    "El sistema se puede resolver usando diferentes tipos de métodos.\n"
   ]
  },
  {
   "cell_type": "markdown",
   "id": "bdde82e3-ff51-4f1f-b7fc-8103e4b19800",
   "metadata": {},
   "source": [
    "## Interactivo"
   ]
  },
  {
   "cell_type": "code",
   "execution_count": null,
   "id": "6e319d6a-f046-48f8-b939-2daa244c9158",
   "metadata": {},
   "outputs": [],
   "source": [
    "%run \"./z_inter_cond_calor_sol.ipynb\""
   ]
  },
  {
   "cell_type": "markdown",
   "id": "a3c8fd26-ff4a-469f-b649-d2f37a4f4c23",
   "metadata": {
    "deletable": false,
    "editable": false,
    "nbgrader": {
     "cell_type": "markdown",
     "checksum": "9b90e41fd21a511ce7b062a34362fce6",
     "grade": false,
     "grade_id": "cell-ef0adfe6fdd817fd",
     "locked": true,
     "schema_version": 3,
     "solution": false,
     "task": false
    }
   },
   "source": [
    "<div class=\"alert alert-success\">\n",
    "\n",
    "## Ejercicio 1.\n",
    "¿Cuántas iteraciones se requieren para resolver el problema para cada método con las siguientes condiciones `Bot=100.0`, `Top = Left = Right = 0.0` y `N = 5`?\n",
    "\n",
    "Escribe tu respuesta en las siguientes variables:\n",
    "\n",
    "```python\n",
    "LU_it = ...\n",
    "J_it = ...\n",
    "GS_it = ...\n",
    "SOR_it = ...\n",
    "SD_it = ...\n",
    "CGM_it = ...\n",
    "```\n",
    "\n",
    "</div>"
   ]
  },
  {
   "cell_type": "code",
   "execution_count": null,
   "id": "acb18993-b5e5-40aa-8a58-d434665a4b36",
   "metadata": {
    "deletable": false,
    "nbgrader": {
     "cell_type": "code",
     "checksum": "77181c9621cee9b85b8c760b9864d330",
     "grade": false,
     "grade_id": "cell-ae3a9649d6e1cd63",
     "locked": false,
     "schema_version": 3,
     "solution": true,
     "task": false
    }
   },
   "outputs": [],
   "source": [
    "#LU_it = ...\n",
    "#J_it = ...\n",
    "#GS_it = ...\n",
    "#SOR_it = ...\n",
    "#SD_it = ...\n",
    "#CGM_it = ...\n",
    "\n",
    "# YOUR CODE HERE\n",
    "raise NotImplementedError()\n",
    "\n",
    "print(\"{:>12s} = {:3>}\".format(\"LU\", LU_it))\n",
    "print(\"{:>12s} = {:3>}\".format(\"Jacobi\", J_it))\n",
    "print(\"{:>12s} = {:3>}\".format(\"Gauss-Seidel\", GS_it))\n",
    "print(\"{:>12s} = {:3>}\".format(\"SOR\", SOR_it))\n",
    "print(\"{:>12s} = {:3>}\".format(\"Steepest\", SD_it))\n",
    "print(\"{:>12s} = {:3>}\".format(\"CGM\", CGM_it))"
   ]
  },
  {
   "cell_type": "code",
   "execution_count": null,
   "id": "659b8fc2-4983-4c06-9894-82608876151b",
   "metadata": {},
   "outputs": [],
   "source": [
    "from macti.eval import Quiz\n",
    "quiz = Quiz('tallerAF_quiz', 'TallerAF', 'local')"
   ]
  },
  {
   "cell_type": "code",
   "execution_count": null,
   "id": "2ca53d42-d137-455e-9f73-2e68923c3bbf",
   "metadata": {
    "deletable": false,
    "editable": false,
    "nbgrader": {
     "cell_type": "code",
     "checksum": "e852165327df04dcbd31838e3437119a",
     "grade": true,
     "grade_id": "cell-1e5f473f3c339407",
     "locked": true,
     "points": 6,
     "schema_version": 3,
     "solution": false,
     "task": false
    }
   },
   "outputs": [],
   "source": [
    "quiz.eval_numeric('1', LU_it)\n",
    "quiz.eval_numeric('2', J_it)\n",
    "quiz.eval_numeric('3', GS_it)\n",
    "quiz.eval_numeric('4', SOR_it)\n",
    "quiz.eval_numeric('5', SD_it)\n",
    "quiz.eval_numeric('6', CGM_it)"
   ]
  },
  {
   "cell_type": "markdown",
   "id": "b6e98938-53c6-41e9-bed8-245bd9d27095",
   "metadata": {},
   "source": [
    "# Implementación."
   ]
  },
  {
   "cell_type": "code",
   "execution_count": null,
   "id": "16a74c5d-fb61-4d81-a145-f0dbf3ab7f9d",
   "metadata": {
    "tags": []
   },
   "outputs": [],
   "source": [
    "import numpy as np\n",
    "import matplotlib.pyplot as plt\n",
    "import macti.vis as mvis"
   ]
  },
  {
   "cell_type": "markdown",
   "id": "8f3e18c6-152c-4a86-9fe6-482020e71c83",
   "metadata": {},
   "source": [
    "## Paso 1. Parámetros físicos y numéricos"
   ]
  },
  {
   "cell_type": "code",
   "execution_count": null,
   "id": "09aa2236-baf0-4331-bbe6-16e7a153dd4b",
   "metadata": {
    "tags": []
   },
   "outputs": [],
   "source": [
    "# Tamaño del dominio\n",
    "Lx = 1.0       \n",
    "Ly = 1.0\n",
    "\n",
    "# Conductividad térmica\n",
    "k = 1.0       \n",
    "\n",
    "# Número de nodos en cada eje\n",
    "Nx = 6         \n",
    "Ny = 6         \n",
    "\n",
    "# Número total de incógnitas\n",
    "Nxi = Nx - 2   \n",
    "Nyi = Ny - 2  \n",
    "N = Nxi * Nyi"
   ]
  },
  {
   "cell_type": "code",
   "execution_count": null,
   "id": "0d64c6a9-26eb-4044-bae4-ec3229d5d099",
   "metadata": {
    "tags": []
   },
   "outputs": [],
   "source": [
    "print('Total de nodos en x = {}, en y = {}'.format(Nx, Ny))\n",
    "print('Total de incógnitas = {}'.format(N))"
   ]
  },
  {
   "cell_type": "markdown",
   "id": "522eaba8-b040-47ef-8a09-164d41eb219e",
   "metadata": {
    "tags": []
   },
   "source": [
    "## Paso 2. Generación de la malla del dominio"
   ]
  },
  {
   "cell_type": "code",
   "execution_count": null,
   "id": "dc96f40a-b5ae-4c2e-bb0b-cd5e61ac140c",
   "metadata": {},
   "outputs": [],
   "source": [
    "# Tamaño de las celdas de la malla en cada dirección\n",
    "hx = Lx / (Nx-1) \n",
    "hy = Ly / (Ny-1)\n",
    "\n",
    "# Construcción de la coordenadas de la malla\n",
    "xn = np.linspace(0, Lx, Nx)\n",
    "yn = np.linspace(0, Ly, Ny)\n",
    "\n",
    "# Generación de una rejilla\n",
    "xg, yg = np.meshgrid(xn, yn, indexing='ij')\n",
    "\n",
    "print('hx = {}, hy = {}'.format(hx, hy))\n",
    "print('Coordenadas en x : {}'.format(xn))\n",
    "print('Coordenadas en y : {}'.format(yn))"
   ]
  },
  {
   "cell_type": "code",
   "execution_count": null,
   "id": "119d3b2f-040d-48e7-8da8-63a19f1ce744",
   "metadata": {},
   "outputs": [],
   "source": [
    "# Graficación del dominio y de la malla.\n",
    "vis = mvis.Plotter(1,2, [dict(aspect = 'equal') for i in range(2)], dict(figsize=(10,4)))\n",
    "vis.set_canvas(1, Lx, Ly)\n",
    "vis.draw_domain(1, xg, yg)\n",
    "vis.axes(1).set_title('Dominio', fontsize=14)\n",
    "\n",
    "cax = vis.set_canvas(2, Lx, Ly)\n",
    "vis.plot_mesh2D(2, xg, yg, nodeson=True)\n",
    "vis.plot_frame(2, xg, yg, ticks=False)\n",
    "vis.axes(2).set_title('Malla', fontsize=14)\n",
    "\n",
    "vis.show()"
   ]
  },
  {
   "cell_type": "markdown",
   "id": "69b21f36-0b80-4343-a72a-94cb1a2e9029",
   "metadata": {},
   "source": [
    "## Paso 3. Campo de temperaturas y sus condiciones de frontera"
   ]
  },
  {
   "cell_type": "code",
   "execution_count": null,
   "id": "a6f1f3d8-df24-48c6-9c47-7245baf30c94",
   "metadata": {
    "tags": []
   },
   "outputs": [],
   "source": [
    "# Definición de un campo escalar en cada punto de la malla\n",
    "T = np.zeros((Nx, Ny))\n",
    "\n",
    "# Condiciones de frontera\n",
    "TB = 1.0\n",
    "TT = -1.0\n",
    "\n",
    "T[0 , :] = 0.0 # LEFT\n",
    "T[-1, :] = 0.0 # RIGHT\n",
    "T[: , 0] = TB  # BOTTOM\n",
    "T[: ,-1] = TT  # TOP\n",
    "\n",
    "print('Campo escalar T ({}):\\n {}'.format(T.shape, T))"
   ]
  },
  {
   "cell_type": "code",
   "execution_count": null,
   "id": "b7eee21c-4cab-4eac-83bb-bb5f1bc8125d",
   "metadata": {},
   "outputs": [],
   "source": [
    "# Graficación de la malla y del campo escalar inicial.\n",
    "\n",
    "vis = mvis.Plotter(1,2, [dict(aspect = 'equal') for i in range(2)], dict(figsize=(10,4)))\n",
    "vis.set_canvas(1, Lx, Ly)\n",
    "vis.plot_mesh2D(1, xg, yg, nodeson=True)\n",
    "vis.plot_frame(1, xg, yg, ticks=True)\n",
    "vis.axes(1).set_title('Malla del dominio', fontsize=14)\n",
    "\n",
    "cax = vis.set_canvas(2, Lx, Ly)\n",
    "vis.plot_frame(2, xg, yg, ticks=False)\n",
    "c = vis.contourf(2, xg, yg, T, levels=50, cmap=\"inferno\")\n",
    "vis.contour(2, xg, yg, T, levels=10, colors='white', linewidths=0.5)\n",
    "vis.fig.colorbar(c, cax=cax, ticks = [T.min(), T.max()], shrink=0.5, orientation='vertical')\n",
    "vis.axes(2).set_title('Temperatura', fontsize=14)\n",
    "\n",
    "vis.show()"
   ]
  },
  {
   "cell_type": "markdown",
   "id": "c5f1a7de-1a1d-480b-a56a-f01a60e1a4d3",
   "metadata": {},
   "source": [
    "## Paso 4. Flujo de calor\n",
    "\n",
    "Fourier también estableció una ley para el flujo de calor que se escribe como:\n",
    "\n",
    "$$\n",
    "\\vec{q} = -\\kappa \\nabla T = -\\kappa \\left(\\dfrac{\\partial T}{\\partial x}, \\dfrac{\\partial T}{\\partial y}\\right)\n",
    "$$\n"
   ]
  },
  {
   "cell_type": "markdown",
   "id": "2edcf887-bef4-4e3c-aa0f-a759544a5072",
   "metadata": {
    "deletable": false,
    "editable": false,
    "nbgrader": {
     "cell_type": "markdown",
     "checksum": "5d3603b10d286c18389349de3dbccd73",
     "grade": false,
     "grade_id": "cell-1181651856fcf59d",
     "locked": true,
     "schema_version": 3,
     "solution": false,
     "task": false
    }
   },
   "source": [
    "<div class=\"alert alert-success\">\n",
    "\n",
    "## Ejercicio 2.\n",
    "Completa la función `heat_flux(T, hx, hy)` con el cálculo de las derivadas parciales usando diferencias finitas centradas:\n",
    "\n",
    "$$\n",
    "\\begin{eqnarray}\n",
    "\\dfrac{\\partial T}{\\partial x} & = & \\dfrac{T_{i+1,j} - T_{i-1,j}}{2 * h_x} \\\\\n",
    "\\dfrac{\\partial T}{\\partial y} & = & \\dfrac{T_{i,j+1} - T_{i,j-1}}{2 * h_y} \n",
    "\\end{eqnarray}\n",
    "$$\n",
    "\n",
    "</div>"
   ]
  },
  {
   "cell_type": "code",
   "execution_count": null,
   "id": "2047c14b-5c97-48c9-ad8f-68c8babee1dc",
   "metadata": {
    "deletable": false,
    "nbgrader": {
     "cell_type": "code",
     "checksum": "f54ea09e681f2ef4650f8c134c9142fa",
     "grade": false,
     "grade_id": "cell-30190704a10a83e3",
     "locked": false,
     "schema_version": 3,
     "solution": true,
     "task": false
    }
   },
   "outputs": [],
   "source": [
    "def heat_flux(T, hx, hy):\n",
    "    \"\"\"\n",
    "    Calcula el flujo de calor usando la ley de Fourier.\n",
    "\n",
    "    Parameters\n",
    "    ----------\n",
    "    T : ndarray\n",
    "        Campo escalar de temperaturas.\n",
    "\n",
    "    hx: float\n",
    "        Tamaño de las celdas de la malla en la dirección x.\n",
    "\n",
    "    hy: float\n",
    "        Tamaño de las celdas de la malla en la dirección y.\n",
    "\n",
    "    Returns\n",
    "    -------\n",
    "    qx, qy: ndarray\n",
    "        Componentes del vector de flujo.\n",
    "    \"\"\"\n",
    "    Nx, Ny = T.shape\n",
    "    qx = np.zeros(T.shape)\n",
    "    qy = qx.copy()\n",
    "\n",
    "    for i in range(1,Nx-1):\n",
    "        for j in range(1,Ny-1):\n",
    "            # YOUR CODE HERE\n",
    "            raise NotImplementedError()\n",
    "            #qx[i,j] = ...\n",
    "            #qy[i,j] = ...\n",
    "    return qx, qy"
   ]
  },
  {
   "cell_type": "code",
   "execution_count": null,
   "id": "2608a0d0-ee3a-41b3-8bea-94adac72e83c",
   "metadata": {
    "deletable": false,
    "nbgrader": {
     "cell_type": "code",
     "checksum": "1d8ee9e66fd448a24a3095fee96e40f9",
     "grade": false,
     "grade_id": "cell-4bd788d93b1ccc7f",
     "locked": false,
     "schema_version": 3,
     "solution": true,
     "task": false
    }
   },
   "outputs": [],
   "source": [
    "# Calculamos el flujo de calor\n",
    "#qx, qy = heat_flux(...)\n",
    "\n",
    "# YOUR CODE HERE\n",
    "raise NotImplementedError()"
   ]
  },
  {
   "cell_type": "code",
   "execution_count": null,
   "id": "a0bb8f50-fdf2-4af0-851a-e977cdf0f650",
   "metadata": {
    "deletable": false,
    "editable": false,
    "nbgrader": {
     "cell_type": "code",
     "checksum": "e5e0e9e79414d757e2c5e7c6600f8cd2",
     "grade": true,
     "grade_id": "cell-a6d62e4135b2d850",
     "locked": true,
     "points": 4,
     "schema_version": 3,
     "solution": false,
     "task": false
    }
   },
   "outputs": [],
   "source": [
    "quiz.eval_numeric('7', qx.flatten())\n",
    "quiz.eval_numeric('8', qy.flatten())"
   ]
  },
  {
   "cell_type": "code",
   "execution_count": null,
   "id": "d25f8501-ce37-4c14-91ee-fad5c8bad43a",
   "metadata": {},
   "outputs": [],
   "source": [
    "# Graficación de la malla, la temperatura y el flujo de calor.\n",
    "\n",
    "ax1 = dict(aspect='equal', title='Dominio')\n",
    "ax2 = dict(aspect='equal', title='Malla')\n",
    "ax3 = dict(aspect='equal', title='Temperatura')\n",
    "ax4 = dict(aspect='equal', title='Flujo de calor')\n",
    "\n",
    "vis = mvis.Plotter(2,2,[ax1, ax2, ax3, ax4],\n",
    "                  dict(figsize=(8,8)))\n",
    "\n",
    "vis.draw_domain(1, xg, yg)\n",
    "vis.plot_mesh2D(2, xg, yg, nodeson=True)\n",
    "vis.plot_frame(2, xg, yg)\n",
    "\n",
    "cax3 = vis.set_canvas(3,Lx,Ly)\n",
    "c = vis.contourf(3, xg, yg, T, levels=50, cmap='inferno')\n",
    "vis.fig.colorbar(c, cax=cax3, ticks = [T.min(), T.max()], shrink=0.5, orientation='vertical')\n",
    "vis.plot_mesh2D(3, xg, yg)\n",
    "\n",
    "vis.plot_frame(4, xg, yg)\n",
    "vis.quiver(4, xg, yg, qx, qy, scale=1)\n",
    "vis.show()"
   ]
  },
  {
   "cell_type": "markdown",
   "id": "68a35d52-02ba-4107-b616-abb8a31528e1",
   "metadata": {},
   "source": [
    "## Paso 5. Solución del sistema lineal"
   ]
  },
  {
   "cell_type": "code",
   "execution_count": null,
   "id": "95900c1b-67ce-45af-88e0-96af6ad0cb3a",
   "metadata": {
    "tags": []
   },
   "outputs": [],
   "source": [
    "import FDM\n",
    "A = FDM.buildMatrix2D(Nxi, Nyi, -4)\n",
    "A"
   ]
  },
  {
   "cell_type": "code",
   "execution_count": null,
   "id": "16c86fb9-4974-4513-ba0b-c2f20d0842cb",
   "metadata": {
    "tags": []
   },
   "outputs": [],
   "source": [
    "# RHS\n",
    "b = np.zeros((Nxi,Nyi))\n",
    "b[:, 0] -= TB  # BOTTOM\n",
    "b[:,-1] -= TT  # TOP\n",
    "b"
   ]
  },
  {
   "cell_type": "markdown",
   "id": "852e0281-9d8f-4663-a464-ef38c140b325",
   "metadata": {
    "tags": []
   },
   "source": [
    "El vector del lado derecho debe ser de una sola dimensión:"
   ]
  },
  {
   "cell_type": "code",
   "execution_count": null,
   "id": "5012e4ef-715c-459a-8844-c44d349c7342",
   "metadata": {
    "tags": []
   },
   "outputs": [],
   "source": [
    "b.flatten()"
   ]
  },
  {
   "cell_type": "code",
   "execution_count": null,
   "id": "c69e8abc-c785-4caf-880b-7423b1b6c3bb",
   "metadata": {
    "tags": []
   },
   "outputs": [],
   "source": [
    "# Calculamos la solución.\n",
    "T_temp = np.linalg.solve(A, b.flatten())\n",
    "T_temp"
   ]
  },
  {
   "cell_type": "code",
   "execution_count": null,
   "id": "4ed5d78d-c42f-4d46-8a2d-c73d110f0038",
   "metadata": {
    "tags": []
   },
   "outputs": [],
   "source": [
    "T_temp.shape"
   ]
  },
  {
   "cell_type": "markdown",
   "id": "5682f06d-ed61-427b-a575-867482a9589a",
   "metadata": {},
   "source": [
    "Colocamos la solución en el campo escalar T de manera adecuada"
   ]
  },
  {
   "cell_type": "code",
   "execution_count": null,
   "id": "56a184c1-ad62-4ff5-85b6-18efeb9488ef",
   "metadata": {
    "tags": []
   },
   "outputs": [],
   "source": [
    "T[1:-1,1:-1] = T_temp.reshape(Nxi, Nyi)\n",
    "T"
   ]
  },
  {
   "cell_type": "code",
   "execution_count": null,
   "id": "2b5543a5-d5a2-4d2f-b798-7a043cf13dd1",
   "metadata": {},
   "outputs": [],
   "source": [
    "# Volvemos a calcular el flujo de calor.\n",
    "qx, qy = heat_flux(T, hx, hy)"
   ]
  },
  {
   "cell_type": "markdown",
   "id": "bd6ac093-2680-4852-8653-1df382fecfef",
   "metadata": {},
   "source": [
    "## Paso 6. Gráfica de la solución final"
   ]
  },
  {
   "cell_type": "code",
   "execution_count": null,
   "id": "a68bf446-2f0d-4046-8800-eaa27653b8fd",
   "metadata": {},
   "outputs": [],
   "source": [
    "vis = mvis.Plotter(2,2,[ax1, ax2, ax3, ax4],\n",
    "                  dict(figsize=(8,8)))\n",
    "\n",
    "vis.draw_domain(1, xg, yg)\n",
    "vis.plot_mesh2D(2, xg, yg, nodeson=True)\n",
    "vis.plot_frame(2, xg, yg)\n",
    "\n",
    "cax3 = vis.set_canvas(3,Lx,Ly)\n",
    "c = vis.contourf(3, xg, yg, T, levels=50, cmap='inferno')\n",
    "vis.fig.colorbar(c, cax=cax3, ticks = [T.min(), T.max()], shrink=0.5, orientation='vertical')\n",
    "vis.plot_mesh2D(3, xg, yg)\n",
    "\n",
    "vis.plot_frame(4, xg, yg)\n",
    "vis.quiver(4, xg, yg, qx, qy, scale=1)\n",
    "vis.show()"
   ]
  },
  {
   "cell_type": "markdown",
   "id": "cc4b7232-beae-43e8-b924-d6de84fd8a07",
   "metadata": {},
   "source": [
    "## Paso 7. Creación de un interactivo"
   ]
  },
  {
   "cell_type": "code",
   "execution_count": null,
   "id": "360010b8-b8d7-4c7c-907d-d8bce132203b",
   "metadata": {},
   "outputs": [],
   "source": [
    "def heat_cond_solver(Lx, Ly, Nx, Ny):\n",
    "    \"\"\"\n",
    "    Resuelve y grafica la ecuación de calor en una\n",
    "    placa rectangular.\n",
    "\n",
    "    Parameters\n",
    "    ----------\n",
    "    Lx, Ly: float\n",
    "        Tamaños del dominio en dirección horizontal y vertical.\n",
    "\n",
    "    Nx, Ny: int\n",
    "        Número de nodos en dirección horizontal y vertical.\n",
    "    \"\"\"\n",
    "    # Número total de nodos\n",
    "    N = Nx * Ny\n",
    "    \n",
    "    # Número total de incógnitas\n",
    "    Nxi = Nx-2\n",
    "    Nyi = Ny-2\n",
    "    \n",
    "    # Tamaño de la malla en cada dirección\n",
    "    hx = Lx / (Nx-1)\n",
    "    hy = Ly / (Ny-1)\n",
    "    \n",
    "    # Coordenadas de la malla\n",
    "    xn = np.linspace(0, Lx, Nx)\n",
    "    yn = np.linspace(0, Ly, Ny)\n",
    "    \n",
    "    # Generación de una rejilla\n",
    "    xg, yg = np.meshgrid(xn, yn, indexing='ij')\n",
    "\n",
    "    # Definición de un campo escalar en cada punto de la malla\n",
    "    T = np.zeros((Nx, Ny))\n",
    "    \n",
    "    # Condiciones de frontera\n",
    "    TB = 1.0\n",
    "    TT = -1.0\n",
    "    \n",
    "    T[0 , :] = 0.0 # LEFT\n",
    "    T[-1, :] = 0.0 # RIGHT\n",
    "    T[: , 0] = TB  # BOTTOM\n",
    "    T[: ,-1] = TT  # TOP\n",
    "\n",
    "    # La matriz del sistema. Usamos la función predefinida buildMatrix2D()\n",
    "    A = FDM.buildMatrix2D(Nxi, Nyi, -4)\n",
    "\n",
    "    # RHS\n",
    "    b = np.zeros((Nxi, Nyi))\n",
    "    b[:, 0] -= TB  # BOTTOM\n",
    "    b[:,-1] -= TT  # TOP\n",
    "\n",
    "    # Calculamos la solución.\n",
    "    T[1:-1,1:-1] = np.linalg.solve(A, b.flatten()).reshape(Nxi, Nyi)\n",
    "\n",
    "    # Calculamos el flujo de calor\n",
    "    qx, qy = heat_flux(T, hx, hy)\n",
    "\n",
    "    ax1 = dict(aspect='equal', title='Dominio')\n",
    "    ax2 = dict(aspect='equal', title='Malla')\n",
    "    ax3 = dict(aspect='equal', title='Temperatura')\n",
    "    ax4 = dict(aspect='equal', title='Flujo de calor')\n",
    "\n",
    "    # Graficación de los resultados\n",
    "    vis = mvis.Plotter(2,2,[ax1, ax2, ax3, ax4],\n",
    "                      dict(figsize=(8,8)))\n",
    "    \n",
    "    vis.draw_domain(1, xg, yg)\n",
    "    vis.plot_mesh2D(2, xg, yg, nodeson=True)\n",
    "    vis.plot_frame(2, xg, yg)\n",
    "    \n",
    "    cax3 = vis.set_canvas(3,Lx,Ly)\n",
    "    c = vis.contourf(3, xg, yg, T, levels=50, cmap='inferno')\n",
    "    vis.fig.colorbar(c, cax=cax3, ticks = [T.min(), T.max()], shrink=0.5, orientation='vertical')\n",
    "    vis.plot_mesh2D(3, xg, yg)\n",
    "    \n",
    "    vis.plot_frame(4, xg, yg)\n",
    "    vis.quiver(4, xg, yg, qx, qy, scale=1)\n",
    "    vis.show()"
   ]
  },
  {
   "cell_type": "code",
   "execution_count": null,
   "id": "0bb37c80-d7ff-46e3-9b83-3f1611c9f3bf",
   "metadata": {},
   "outputs": [],
   "source": [
    "# Prueba de la función \n",
    "heat_cond_solver(Lx=1, Ly=1, Nx=10, Ny=10)"
   ]
  },
  {
   "cell_type": "code",
   "execution_count": null,
   "id": "28519473-8f34-47ca-98ff-e453cf43b4b6",
   "metadata": {},
   "outputs": [],
   "source": [
    "import ipywidgets as widgets"
   ]
  },
  {
   "cell_type": "code",
   "execution_count": null,
   "id": "43e841cd-3308-4a95-a985-55fa3ce7fd0b",
   "metadata": {},
   "outputs": [],
   "source": [
    "widgets.interact(heat_cond_solver, Lx = (1,3,1), Ly = (1,3,1), Nx = (4, 8, 1), Ny = (4, 8, 1))"
   ]
  },
  {
   "cell_type": "code",
   "execution_count": null,
   "id": "be8d5287-c7b7-4885-92cf-05389566cc18",
   "metadata": {},
   "outputs": [],
   "source": []
  }
 ],
 "metadata": {
  "kernelspec": {
   "display_name": "Python 3 (ipykernel)",
   "language": "python",
   "name": "python3"
  },
  "language_info": {
   "codemirror_mode": {
    "name": "ipython",
    "version": 3
   },
   "file_extension": ".py",
   "mimetype": "text/x-python",
   "name": "python",
   "nbconvert_exporter": "python",
   "pygments_lexer": "ipython3",
   "version": "3.11.6"
  }
 },
 "nbformat": 4,
 "nbformat_minor": 5
}
